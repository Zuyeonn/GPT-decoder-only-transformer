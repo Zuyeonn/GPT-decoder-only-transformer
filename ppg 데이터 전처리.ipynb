{
 "cells": [
  {
   "cell_type": "code",
   "execution_count": 5,
   "id": "38f3f89c-0311-4a2d-9971-c1fcbcd3f627",
   "metadata": {},
   "outputs": [],
   "source": [
    "import pandas as pd\n",
    "import ast"
   ]
  },
  {
   "cell_type": "code",
   "execution_count": 4,
   "id": "108be1d1-ce9e-4b6f-b6d6-e5306e4ed4a7",
   "metadata": {},
   "outputs": [
    {
     "name": "stdout",
     "output_type": "stream",
     "text": [
      "<class 'pandas.core.frame.DataFrame'>\n",
      "RangeIndex: 17 entries, 0 to 16\n",
      "Data columns (total 2 columns):\n",
      " #   Column    Non-Null Count  Dtype \n",
      "---  ------    --------------  ----- \n",
      " 0   time      17 non-null     object\n",
      " 1   ppg_data  17 non-null     object\n",
      "dtypes: object(2)\n",
      "memory usage: 400.0+ bytes\n"
     ]
    },
    {
     "data": {
      "text/html": [
       "<div>\n",
       "<style scoped>\n",
       "    .dataframe tbody tr th:only-of-type {\n",
       "        vertical-align: middle;\n",
       "    }\n",
       "\n",
       "    .dataframe tbody tr th {\n",
       "        vertical-align: top;\n",
       "    }\n",
       "\n",
       "    .dataframe thead th {\n",
       "        text-align: right;\n",
       "    }\n",
       "</style>\n",
       "<table border=\"1\" class=\"dataframe\">\n",
       "  <thead>\n",
       "    <tr style=\"text-align: right;\">\n",
       "      <th></th>\n",
       "      <th>time</th>\n",
       "      <th>ppg_data</th>\n",
       "    </tr>\n",
       "  </thead>\n",
       "  <tbody>\n",
       "    <tr>\n",
       "      <th>0</th>\n",
       "      <td>2025-02-14 18:14:27</td>\n",
       "      <td>[1672.9695333422503, 1986.5196553719618, 2216....</td>\n",
       "    </tr>\n",
       "    <tr>\n",
       "      <th>1</th>\n",
       "      <td>2025-02-14 18:14:39</td>\n",
       "      <td>[1100.6734299617276, 1428.6767377719339, 1322....</td>\n",
       "    </tr>\n",
       "    <tr>\n",
       "      <th>2</th>\n",
       "      <td>2025-02-14 18:14:51</td>\n",
       "      <td>[850.5780528948004, 742.5390563687934, 670.547...</td>\n",
       "    </tr>\n",
       "    <tr>\n",
       "      <th>3</th>\n",
       "      <td>2025-02-14 18:15:03</td>\n",
       "      <td>[860.0256832318538, 1121.2498964592564, 1436.7...</td>\n",
       "    </tr>\n",
       "    <tr>\n",
       "      <th>4</th>\n",
       "      <td>2025-02-14 18:15:15</td>\n",
       "      <td>[1027.243698084188, 657.8743100443685, 369.136...</td>\n",
       "    </tr>\n",
       "  </tbody>\n",
       "</table>\n",
       "</div>"
      ],
      "text/plain": [
       "                  time                                           ppg_data\n",
       "0  2025-02-14 18:14:27  [1672.9695333422503, 1986.5196553719618, 2216....\n",
       "1  2025-02-14 18:14:39  [1100.6734299617276, 1428.6767377719339, 1322....\n",
       "2  2025-02-14 18:14:51  [850.5780528948004, 742.5390563687934, 670.547...\n",
       "3  2025-02-14 18:15:03  [860.0256832318538, 1121.2498964592564, 1436.7...\n",
       "4  2025-02-14 18:15:15  [1027.243698084188, 657.8743100443685, 369.136..."
      ]
     },
     "execution_count": 4,
     "metadata": {},
     "output_type": "execute_result"
    }
   ],
   "source": [
    "# 데이터 불러오기\n",
    "df = pd.read_csv(\"ppg_data.csv\")\n",
    "\n",
    "# 데이터 구조 확인\n",
    "df.info()\n",
    "df.head()"
   ]
  },
  {
   "cell_type": "code",
   "execution_count": 8,
   "id": "99f26182-a563-46f9-b8e5-efc383c3b967",
   "metadata": {},
   "outputs": [
    {
     "name": "stdout",
     "output_type": "stream",
     "text": [
      "[<class 'list'>]\n"
     ]
    }
   ],
   "source": [
    "print(df[\"ppg_data\"].apply(type).unique())"
   ]
  },
  {
   "cell_type": "code",
   "execution_count": 9,
   "id": "e8f2566b-6653-4fb5-90ea-4c78dbf0089a",
   "metadata": {
    "scrolled": true
   },
   "outputs": [],
   "source": [
    "# ppg_data 컬럼을 하나의 리스트로 합치기\n",
    "all_ppg_data = [value for sublist in df[\"ppg_data\"] for value in sublist]"
   ]
  },
  {
   "cell_type": "code",
   "execution_count": 10,
   "id": "a6a4c621-d76d-414d-98fe-ea5faea83dd3",
   "metadata": {},
   "outputs": [
    {
     "name": "stdout",
     "output_type": "stream",
     "text": [
      "Processed PPG Data Length: 500\n",
      "First 10 values: [936.7932713506489, 1102.8225765327086, 1283.7605889012225, 1495.5819069857266, 1719.2764534148187, 1770.7437333865378, 1524.064889513927, 1168.0806395525237, 916.2068357524771, 746.0018180486543]\n"
     ]
    }
   ],
   "source": [
    "# 중간에서 500개 데이터 선택\n",
    "total_length = len(all_ppg_data)\n",
    "start_idx = (total_length - 500) // 2\n",
    "end_idx = start_idx + 500\n",
    "\n",
    "processed_ppg_data = all_ppg_data[start_idx:end_idx]\n",
    "\n",
    "# 결과 확인\n",
    "print(f\"Processed PPG Data Length: {len(processed_ppg_data)}\")\n",
    "print(f\"First 10 values: {processed_ppg_data[:10]}\")"
   ]
  },
  {
   "cell_type": "code",
   "execution_count": 14,
   "id": "bdde89d4-c1f5-4f50-908c-5131483a09b4",
   "metadata": {},
   "outputs": [
    {
     "name": "stdout",
     "output_type": "stream",
     "text": [
      "Processed data saved to ppg_data2.csv\n"
     ]
    }
   ],
   "source": [
    "# 데이터를 개별 행으로 저장\n",
    "df_processed = pd.DataFrame({\"ppg_data\": processed_ppg_data})\n",
    "\n",
    "# CSV 파일로 저장 (각 값이 한 행씩 저장됨)\n",
    "output_path = \"ppg_data2.csv\"\n",
    "df_processed.to_csv(output_path, index=False)\n",
    "\n",
    "print(f\"Processed data saved to {output_path}\")"
   ]
  }
 ],
 "metadata": {
  "kernelspec": {
   "display_name": "Python 3 (ipykernel)",
   "language": "python",
   "name": "python3"
  },
  "language_info": {
   "codemirror_mode": {
    "name": "ipython",
    "version": 3
   },
   "file_extension": ".py",
   "mimetype": "text/x-python",
   "name": "python",
   "nbconvert_exporter": "python",
   "pygments_lexer": "ipython3",
   "version": "3.10.16"
  }
 },
 "nbformat": 4,
 "nbformat_minor": 5
}
